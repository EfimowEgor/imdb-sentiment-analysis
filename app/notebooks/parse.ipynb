{
 "cells": [
  {
   "cell_type": "code",
   "execution_count": null,
   "metadata": {},
   "outputs": [
    {
     "data": {
      "text/plain": [
       "True"
      ]
     },
     "execution_count": 1,
     "metadata": {},
     "output_type": "execute_result"
    }
   ],
   "source": [
    "import os \n",
    "from dotenv import load_dotenv\n",
    "import requests\n",
    "from bs4 import BeautifulSoup\n",
    "\n",
    "load_dotenv()"
   ]
  },
  {
   "cell_type": "code",
   "execution_count": 2,
   "metadata": {},
   "outputs": [],
   "source": [
    "BASE_URL = os.getenv(\"BASE_PATH\")"
   ]
  },
  {
   "cell_type": "code",
   "execution_count": 3,
   "metadata": {},
   "outputs": [],
   "source": [
    "BASE_URL = \"https://www.imdb.com\"\n",
    "TOP_250_URL = f\"{BASE_URL}/chart/top/\"\n",
    "\n",
    "HEADERS = {\n",
    "    \"User-Agent\": \"Mozilla/5.0 (Windows NT 10.0; Win64; x64) AppleWebKit/537.36 (KHTML, like Gecko) Chrome/117.0.0.0 Safari/537.36\"\n",
    "}"
   ]
  },
  {
   "cell_type": "code",
   "execution_count": 4,
   "metadata": {},
   "outputs": [],
   "source": [
    "def get_top_movies(limit=10):\n",
    "    response = requests.get(TOP_250_URL, headers=HEADERS)\n",
    "    soup = BeautifulSoup(response.content, \"html.parser\")\n",
    "\n",
    "    movies = []\n",
    "    rows = soup.select(\"li.ipc-metadata-list-summary-item.sc-4929eaf6-0.DLYcv.cli-parent a.ipc-title-link-wrapper\")[:limit]\n",
    "    for row in rows:\n",
    "        title = row.text\n",
    "        link = BASE_URL + row[\"href\"]\n",
    "        movies.append((title, link))\n",
    "    return movies"
   ]
  },
  {
   "cell_type": "code",
   "execution_count": null,
   "metadata": {},
   "outputs": [],
   "source": [
    "top_movies = get_top_movies(limit=10)\n",
    "for title, url in top_movies:\n",
    "    print(f\"Фильм: {title}\")\n",
    "    reviews = get_reviews(url, limit=5)\n",
    "    for i, (rating, review_title, review) in enumerate(reviews, 1):\n",
    "        print(f\"  Отзыв {i}:\")\n",
    "        print(f\"    Оценка: {rating}\")\n",
    "        print(f\"    Заголовок: {review_title}\")\n",
    "        print(f\"    Текст: {review}\")\n",
    "    print(\"-\" * 80)"
   ]
  }
 ],
 "metadata": {
  "kernelspec": {
   "display_name": ".venv",
   "language": "python",
   "name": "python3"
  },
  "language_info": {
   "codemirror_mode": {
    "name": "ipython",
    "version": 3
   },
   "file_extension": ".py",
   "mimetype": "text/x-python",
   "name": "python",
   "nbconvert_exporter": "python",
   "pygments_lexer": "ipython3",
   "version": "3.12.6"
  }
 },
 "nbformat": 4,
 "nbformat_minor": 2
}
